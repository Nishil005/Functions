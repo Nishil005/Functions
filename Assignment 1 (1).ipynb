{
 "cells": [
  {
   "cell_type": "markdown",
   "id": "7aa857b4-b775-4e49-a2cd-38fd15e6a8c0",
   "metadata": {},
   "source": [
    "Q1. Which keyword is used to create a function? Create a function to return a list of odd numbers in the \n",
    "range of 1 to 25.\n",
    "Ans = def keyword i used to create a function"
   ]
  },
  {
   "cell_type": "code",
   "execution_count": 51,
   "id": "c9dd4079-ab6d-49e2-afc2-93f24067c74a",
   "metadata": {},
   "outputs": [],
   "source": [
    "l = [1,2,3,4,5,6,7,8,9,10,11,12,13,14,15,16,17,18,19,20,21,22,23,24,25]\n",
    "def nishil(l):\n",
    "    l1 = []\n",
    "    for i in l:\n",
    "        if i % 2 != 0:\n",
    "            l1.append(i)\n",
    "    return l1\n",
    "    "
   ]
  },
  {
   "cell_type": "code",
   "execution_count": 52,
   "id": "33019e1e-4a60-421a-8550-37b83a43a81a",
   "metadata": {},
   "outputs": [
    {
     "data": {
      "text/plain": [
       "[1, 3, 5, 7, 9, 11, 13, 15, 17, 19, 21, 23, 25]"
      ]
     },
     "execution_count": 52,
     "metadata": {},
     "output_type": "execute_result"
    }
   ],
   "source": [
    "nishil(l)"
   ]
  },
  {
   "cell_type": "markdown",
   "id": "035be319-b24b-481b-a18c-49691fdef23b",
   "metadata": {},
   "source": [
    "Q2. Why *args and **kwargs is used in some functions? Create a function each for *args and **kwargs \n",
    "to demonstrate their use\n",
    "Ans::\n",
    "**kwargs takes input as a key value pair and stores in a dictionary format\n",
    "*args parameter collects all the positional arguments passed to the function and stores them as a tuple"
   ]
  },
  {
   "cell_type": "code",
   "execution_count": 57,
   "id": "8358f807-3660-45d9-a7ea-e4da5cd5f2f1",
   "metadata": {},
   "outputs": [
    {
     "name": "stdout",
     "output_type": "stream",
     "text": [
      "Hello Krish a!\n"
     ]
    }
   ],
   "source": [
    "def concatenate_strings(*args):\n",
    "    result = \"\"\n",
    "    for string in args:\n",
    "        result += string\n",
    "    return result\n",
    "output = concatenate_strings(\"Hello\", \" \", \"Krish a\", \"!\")\n",
    "print(output)\n"
   ]
  },
  {
   "cell_type": "code",
   "execution_count": 56,
   "id": "0bc576e7-1ace-47fb-a590-32d763a67f11",
   "metadata": {},
   "outputs": [
    {
     "name": "stdout",
     "output_type": "stream",
     "text": [
      "name: Nishil\n",
      "age: 18\n",
      "city: Mumbai\n"
     ]
    }
   ],
   "source": [
    "def personal_info (**kwargs):\n",
    "    for key, value in kwargs.items():\n",
    "        print(key + \": \" + value)\n",
    "personal_info(name=\"Nishil\", age=\"18\", city=\"Mumbai\")"
   ]
  },
  {
   "cell_type": "markdown",
   "id": "50ecd015-11f3-40af-b11a-656ae7838f46",
   "metadata": {},
   "source": [
    "Q3. What is an iterator in python? Name the method used to initialise the iterator object and the method \n",
    "used for iteration. Use these methods to print the first five elements of the given list [2, 4, 6, 8, 10, 12, 14, \n",
    "16, 18, 20]\n",
    "Ans:\n",
    "In Python, an iterator is an object that allows you to traverse or iterate over a container, such as a list, tuple, or dictionary, one item at a time. It provides a way to access the elements of a container sequentially without exposing the underlying implementation details.\n",
    "To initialize an iterator object in Python, you can use the iter() function. The iter() function takes an iterable object as an argument and returns an iterator object associated with that iterable"
   ]
  },
  {
   "cell_type": "code",
   "execution_count": 59,
   "id": "9ec3b507-df55-47f6-ac10-1fbfdc1b1578",
   "metadata": {},
   "outputs": [
    {
     "name": "stdout",
     "output_type": "stream",
     "text": [
      "2\n",
      "4\n",
      "6\n",
      "8\n",
      "10\n"
     ]
    }
   ],
   "source": [
    "q = [2, 4, 6, 8, 10, 12, 14, 16, 18, 20]\n",
    "my_iterator = iter(q)\n",
    "for i in range(5):\n",
    "    element = next(my_iterator)\n",
    "    print(element)\n"
   ]
  },
  {
   "cell_type": "markdown",
   "id": "9baae73b-2783-4d9a-aabe-46649a43e5c8",
   "metadata": {},
   "source": [
    "Q4. What is a generator function in python? Why yield keyword is used? Give an example of a generator \n",
    "function\n",
    "Ans :\n",
    "In Python, a generator function is a special type of function that returns an iterator, which can be used to generate a sequence of values on-the-fly. It is defined using the def keyword like any other function, but instead of using the return statement to return a value, it uses the yield keyword.\n",
    "\n",
    "The yield keyword is used within a generator function to specify the values that will be produced by the generator. When a generator function is called, it returns a generator object that can be iterated over. Each time the yield keyword is encountered, the generator function's state is frozen, and the value specified by yield is returned. The next time the generator's next() method is called, the function resumes execution from where it left off, continuing until the next yield statement is encountered."
   ]
  },
  {
   "cell_type": "code",
   "execution_count": 1,
   "id": "8f4c6b7b-a441-4532-b98d-a8d9c05d86eb",
   "metadata": {},
   "outputs": [
    {
     "name": "stdout",
     "output_type": "stream",
     "text": [
      "0\n",
      "2\n",
      "4\n",
      "6\n",
      "8\n"
     ]
    }
   ],
   "source": [
    "def even_numbers(n):\n",
    "    i = 0\n",
    "    while i < n:\n",
    "        yield i\n",
    "        i += 2\n",
    "generator = even_numbers(10)\n",
    "for number in generator:\n",
    "    print(number)"
   ]
  },
  {
   "cell_type": "markdown",
   "id": "36cce4d9-6dd3-47e8-91cd-0b2c7ba0bb8c",
   "metadata": {},
   "source": [
    "Q5. Create a generator function for prime numbers less than 1000. Use the next() method to print the \n",
    "first 20 prime numbers."
   ]
  },
  {
   "cell_type": "code",
   "execution_count": 2,
   "id": "4ed1d5cf-ac57-4283-8f3c-c30a5c44b704",
   "metadata": {},
   "outputs": [
    {
     "name": "stdout",
     "output_type": "stream",
     "text": [
      "2\n",
      "3\n",
      "5\n",
      "7\n",
      "11\n",
      "13\n",
      "17\n",
      "19\n",
      "23\n",
      "29\n",
      "31\n",
      "37\n",
      "41\n",
      "43\n",
      "47\n",
      "53\n",
      "59\n",
      "61\n",
      "67\n",
      "71\n"
     ]
    }
   ],
   "source": [
    "def prime_generator():\n",
    "    sieve = [True] * 1000\n",
    "    sieve[0] = sieve[1] = False\n",
    "    for i in range(2, int(1000 ** 0.5) + 1):\n",
    "        if sieve[i]:\n",
    "            for j in range(i * i, 1000, i):\n",
    "                sieve[j] = False\n",
    "    count = 0\n",
    "    num = 2\n",
    "    while count < 20:\n",
    "        if sieve[num]:\n",
    "            yield num\n",
    "            count += 1\n",
    "        num += 1\n",
    "generator = prime_generator()\n",
    "for i in range(20):\n",
    "    prime_number = next(generator)\n",
    "    print(prime_number)\n"
   ]
  },
  {
   "cell_type": "markdown",
   "id": "05997e05-67b0-412e-8178-f125ac937d7e",
   "metadata": {},
   "source": [
    "Q6. Write a python program to print the first 10 Fibonacci numbers using a while loop.\n"
   ]
  },
  {
   "cell_type": "code",
   "execution_count": 3,
   "id": "31e4043f-9046-4506-b915-1b79017fec90",
   "metadata": {},
   "outputs": [
    {
     "name": "stdout",
     "output_type": "stream",
     "text": [
      "0\n",
      "1\n",
      "1\n",
      "2\n",
      "3\n",
      "5\n",
      "8\n",
      "13\n",
      "21\n",
      "34\n"
     ]
    }
   ],
   "source": [
    "a, b = 0, 1\n",
    "count = 0\n",
    "while count < 10:\n",
    "    print(a)\n",
    "    a, b = b, a + b\n",
    "    count += 1"
   ]
  },
  {
   "cell_type": "markdown",
   "id": "d8578911-0448-43d5-a1fc-9385e18a1d16",
   "metadata": {},
   "source": [
    "Q7. Write a List Comprehension to iterate through the given string: ‘pwskills’.\n",
    "Expected output: ['p', 'w', 's', 'k', 'i', 'l', 'l', 's'] "
   ]
  },
  {
   "cell_type": "code",
   "execution_count": 13,
   "id": "163f8ec7-5daf-4cb0-bf85-0bda2b4bddcb",
   "metadata": {},
   "outputs": [
    {
     "name": "stdout",
     "output_type": "stream",
     "text": [
      "['p', 'w', 's', 'k', 'i', 'l', 'l', 's']\n"
     ]
    }
   ],
   "source": [
    "l = 'pwskills'\n",
    "result = [char for char in l]\n",
    "print(result)"
   ]
  },
  {
   "cell_type": "markdown",
   "id": "2277b807-1e91-4d3d-8080-a705b01a2e25",
   "metadata": {},
   "source": [
    "Q8. Write a python program to check whether a given number is Palindrome or not using a while loop.\n"
   ]
  },
  {
   "cell_type": "code",
   "execution_count": 22,
   "id": "595eae50-3717-4d94-a3ce-9db36d15cac2",
   "metadata": {},
   "outputs": [
    {
     "name": "stdin",
     "output_type": "stream",
     "text": [
      "Enter a number:  9\n"
     ]
    },
    {
     "name": "stdout",
     "output_type": "stream",
     "text": [
      "9 is a palindrome\n"
     ]
    }
   ],
   "source": [
    "a = int(input(\"Enter a number: \"))\n",
    "temp = a\n",
    "reverse = 0\n",
    "while temp > 0:\n",
    "    remainder = temp % 10\n",
    "    reverse = (reverse * 10) + remainder\n",
    "    temp = temp // 10\n",
    "if a == reverse:\n",
    "    print(a, \"is a palindrome\")\n",
    "else:\n",
    "    print(a, \"is not a palindrome\")\n"
   ]
  },
  {
   "cell_type": "markdown",
   "id": "73c45bb4-f000-40b6-be83-2bbe545c54d1",
   "metadata": {},
   "source": [
    "Q9. Write a code to print odd numbers from 1 to 100 using list comprehension.\n"
   ]
  },
  {
   "cell_type": "code",
   "execution_count": 23,
   "id": "d10f958d-5818-4380-b4a5-d414be97abf6",
   "metadata": {},
   "outputs": [
    {
     "name": "stdout",
     "output_type": "stream",
     "text": [
      "[1, 3, 5, 7, 9, 11, 13, 15, 17, 19, 21, 23, 25, 27, 29, 31, 33, 35, 37, 39, 41, 43, 45, 47, 49, 51, 53, 55, 57, 59, 61, 63, 65, 67, 69, 71, 73, 75, 77, 79, 81, 83, 85, 87, 89, 91, 93, 95, 97, 99]\n"
     ]
    }
   ],
   "source": [
    "odd_numbers = [num for num in range(1, 101) if num % 2 != 0]\n",
    "print(odd_numbers)\n"
   ]
  },
  {
   "cell_type": "code",
   "execution_count": null,
   "id": "a9a0c1c3-8702-45af-8670-f4623084c723",
   "metadata": {},
   "outputs": [],
   "source": []
  }
 ],
 "metadata": {
  "kernelspec": {
   "display_name": "Python 3 (ipykernel)",
   "language": "python",
   "name": "python3"
  },
  "language_info": {
   "codemirror_mode": {
    "name": "ipython",
    "version": 3
   },
   "file_extension": ".py",
   "mimetype": "text/x-python",
   "name": "python",
   "nbconvert_exporter": "python",
   "pygments_lexer": "ipython3",
   "version": "3.10.8"
  }
 },
 "nbformat": 4,
 "nbformat_minor": 5
}
